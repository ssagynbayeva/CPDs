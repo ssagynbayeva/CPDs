{
 "cells": [
  {
   "cell_type": "code",
   "execution_count": 150,
   "metadata": {},
   "outputs": [],
   "source": [
    "import numpy as np\n",
    "import matplotlib.pyplot as plt\n",
    "from matplotlib.colors import LogNorm\n",
    "import struct\n",
    "import array\n",
    "import os\n",
    "from scipy.interpolate import griddata\n",
    "from scipy.interpolate import RegularGridInterpolator, LinearNDInterpolator\n",
    "\n",
    "# Athena++ modules\n",
    "# import athena_read\n",
    "import athena_read_select\n",
    "import h5py\n",
    "import netCDF4\n",
    "import xarray as xr"
   ]
  },
  {
   "cell_type": "code",
   "execution_count": 151,
   "metadata": {},
   "outputs": [],
   "source": [
    "filename = 'disk.out1.00100.athdf'"
   ]
  },
  {
   "cell_type": "code",
   "execution_count": 152,
   "metadata": {},
   "outputs": [],
   "source": [
    "q = 0.9e-3\n",
    "Rh = (q/3) ** (1/3)"
   ]
  },
  {
   "cell_type": "code",
   "execution_count": 153,
   "metadata": {},
   "outputs": [
    {
     "name": "stdout",
     "output_type": "stream",
     "text": [
      "b'spherical_polar'\n",
      "[b'prim']\n",
      "4\n",
      "[24 24 24]\n",
      "1480314\n",
      "2772\n",
      "[5]\n",
      "[168  72 576]\n",
      "[0.4      2.5      1.003814]\n",
      "[1.3962634 1.7453293 1.       ]\n",
      "[0.        6.2831855 1.       ]\n",
      "628.31854\n",
      "[b'rho' b'press' b'vel1' b'vel2' b'vel3']\n"
     ]
    }
   ],
   "source": [
    "leveln = None\n",
    "quantities=['rho','press','vel1','vel2','vel3']\n",
    "with h5py.File(filename, 'r') as f:\n",
    "      attributes = f.attrs.items()\n",
    "      attrs = dict(attributes)\n",
    "      level = f.attrs['MaxLevel']\n",
    "      time = f.attrs['Time']\n",
    "\n",
    "subsample = False\n",
    "if leveln is not None:\n",
    "    if level > leveln:\n",
    "        subsample = True\n",
    "    level = leveln\n",
    "data = athena_read_select.athdf(filename, quantities=quantities,\n",
    "    level=level, subsample=subsample)"
   ]
  },
  {
   "cell_type": "code",
   "execution_count": 154,
   "metadata": {},
   "outputs": [
    {
     "data": {
      "text/plain": [
       "(588, 1152, 560)"
      ]
     },
     "execution_count": 154,
     "metadata": {},
     "output_type": "execute_result"
    }
   ],
   "source": [
    "data['rho'].shape"
   ]
  },
  {
   "cell_type": "code",
   "execution_count": 155,
   "metadata": {},
   "outputs": [],
   "source": [
    "thetapos=np.abs(data['x2v']-0.5*np.pi).argmin()\n",
    "phipos=400"
   ]
  },
  {
   "cell_type": "code",
   "execution_count": 156,
   "metadata": {},
   "outputs": [],
   "source": [
    "phi, theta, r = np.meshgrid(data['x3v'], data['x2v'], data['x1v'], indexing='ij')"
   ]
  },
  {
   "cell_type": "code",
   "execution_count": 157,
   "metadata": {},
   "outputs": [],
   "source": [
    "rp, thetap, phip = 1, np.pi / 2, np.pi"
   ]
  },
  {
   "cell_type": "code",
   "execution_count": 158,
   "metadata": {},
   "outputs": [],
   "source": [
    "rho = data['rho']"
   ]
  },
  {
   "cell_type": "code",
   "execution_count": 159,
   "metadata": {},
   "outputs": [],
   "source": [
    "vr = data['vel1']\n",
    "vtheta = data['vel2']\n",
    "vphi = data['vel3']"
   ]
  },
  {
   "cell_type": "code",
   "execution_count": 160,
   "metadata": {},
   "outputs": [
    {
     "name": "stderr",
     "output_type": "stream",
     "text": [
      "/var/folders/6b/q0ls5s7570d8s04fbvw5gmxw0000gn/T/ipykernel_76330/245351492.py:4: RuntimeWarning: invalid value encountered in arccos\n",
      "  theta_new = np.arccos(r * np.cos(theta) / np.sqrt(r ** 2 + rp ** 2 + 2 * r * rp * np.sin(theta) * np.cos(phi)))\n"
     ]
    }
   ],
   "source": [
    "# recentering the coordinates to make them planet-centered\n",
    "r_new = np.sqrt(r ** 2 + rp ** 2 + 2 * r * rp * np.sin(theta) * np.cos(phi))\n",
    "phi_new = np.arctan2(r * np.sin(theta) * np.sin(phi), r * np.sin(theta) * np.cos(phi) + rp)\n",
    "theta_new = np.arccos(r * np.cos(theta) / np.sqrt(r ** 2 + rp ** 2 + 2 * r * rp * np.sin(theta) * np.cos(phi)))"
   ]
  },
  {
   "cell_type": "code",
   "execution_count": 161,
   "metadata": {},
   "outputs": [],
   "source": [
    "from itertools import product"
   ]
  },
  {
   "cell_type": "code",
   "execution_count": 162,
   "metadata": {},
   "outputs": [],
   "source": [
    "def searchsorted(l, x):\n",
    "    for i in l:\n",
    "        if i >= x: break\n",
    "    # return l.index(i)\n",
    "    return np.where(l == i)[0][0]\n",
    "\n",
    "def trilinear_interpolation(x_volume, y_volume, z_volume, volume, x_needed, y_needed, z_needed):\n",
    "    \"\"\"\n",
    "    Trilinear interpolation (from Wikipedia)\n",
    "\n",
    "    :param x_volume: x points of the volume grid \n",
    "    :type crack_type: list or numpy.ndarray\n",
    "    :param y_volume: y points of the volume grid \n",
    "    :type crack_type: list or numpy.ndarray\n",
    "    :param x_volume: z points of the volume grid \n",
    "    :type crack_type: list or numpy.ndarray\n",
    "    :param volume:   volume\n",
    "    :type crack_type: list or numpy.ndarray\n",
    "    :param x_needed: desired x coordinate of volume\n",
    "    :type crack_type: float\n",
    "    :param y_needed: desired y coordinate of volume\n",
    "    :type crack_type: float\n",
    "    :param z_needed: desired z coordinate of volume\n",
    "    :type crack_type: float\n",
    "\n",
    "    :return volume_needed: desired value of the volume, i.e. volume(x_needed, y_needed, z_needed)\n",
    "    :type volume_needed: float\n",
    "    \"\"\"\n",
    "    # dimensinoal check\n",
    "    if np.shape(volume) != (len(x_volume), len(y_volume), len(z_volume)):\n",
    "        raise ValueError(f'dimension mismatch, volume must be a ({len(x_volume)}, {len(y_volume)}, {len(z_volume)}) list or numpy.ndarray')\n",
    "    # check of the indices needed for the correct control volume definition\n",
    "    i = searchsorted(x_volume, x_needed)\n",
    "    j = searchsorted(y_volume, y_needed)\n",
    "    k = searchsorted(z_volume, z_needed)\n",
    "    # control volume definition\n",
    "    control_volume_coordinates = np.array(\n",
    "        [[x_volume[i - 1], y_volume[j - 1], z_volume[k - 1]], [x_volume[i], y_volume[j], z_volume[k]]])\n",
    "    xd = (np.array([x_needed, y_needed, z_needed]) - control_volume_coordinates[0]) / (control_volume_coordinates[1] - control_volume_coordinates[0])\n",
    "    # interpolation along x\n",
    "    c2 = [[0, 0], [0, 0]]\n",
    "    for m, n in product([0, 1], [0, 1]):\n",
    "        c2[m][n] = volume[i - 1][j - 1 + m][k - 1 + n] * (1 - xd[0]) + volume[i][j - 1 + m][k - 1 + n] * xd[0]\n",
    "    # interpolation along y\n",
    "    c1 = [0, 0]\n",
    "    c1[0] = c2[0][0] * (1 - xd[1]) + c2[1][0] * xd[1]\n",
    "    c1[1] = c2[0][1] * (1 - xd[1]) + c2[1][1] * xd[1]\n",
    "    # interpolation along z\n",
    "    volume_needed = c1[0] * (1 - xd[2]) + c1[1] * xd[2]\n",
    "    return volume_needed"
   ]
  },
  {
   "cell_type": "code",
   "execution_count": 163,
   "metadata": {},
   "outputs": [
    {
     "data": {
      "text/plain": [
       "0.04394557381057864"
      ]
     },
     "execution_count": 163,
     "metadata": {},
     "output_type": "execute_result"
    }
   ],
   "source": [
    "trilinear_interpolation(data['x3v'], data['x2v'], data['x1v'], vr, 2.942857, np.pi/2, 0.950568)"
   ]
  },
  {
   "cell_type": "code",
   "execution_count": 164,
   "metadata": {},
   "outputs": [
    {
     "data": {
      "text/plain": [
       "(array([2]),)"
      ]
     },
     "execution_count": 164,
     "metadata": {},
     "output_type": "execute_result"
    }
   ],
   "source": [
    "np.where(np.isclose(data['x3v'],2.942857))"
   ]
  },
  {
   "cell_type": "code",
   "execution_count": 165,
   "metadata": {},
   "outputs": [
    {
     "data": {
      "text/plain": [
       "(array([576]),)"
      ]
     },
     "execution_count": 165,
     "metadata": {},
     "output_type": "execute_result"
    }
   ],
   "source": [
    "np.where(np.isclose(data['x2v'],np.pi/2))"
   ]
  },
  {
   "cell_type": "code",
   "execution_count": 166,
   "metadata": {},
   "outputs": [
    {
     "data": {
      "text/plain": [
       "(array([123]),)"
      ]
     },
     "execution_count": 166,
     "metadata": {},
     "output_type": "execute_result"
    }
   ],
   "source": [
    "np.where(np.isclose(data['x1v'],0.950568))"
   ]
  },
  {
   "cell_type": "code",
   "execution_count": 167,
   "metadata": {},
   "outputs": [
    {
     "data": {
      "text/plain": [
       "0.043930076"
      ]
     },
     "execution_count": 167,
     "metadata": {},
     "output_type": "execute_result"
    }
   ],
   "source": [
    "vr[2,576,123]"
   ]
  },
  {
   "cell_type": "code",
   "execution_count": 19,
   "metadata": {},
   "outputs": [],
   "source": [
    "nanmask = np.isnan(theta_new)"
   ]
  },
  {
   "cell_type": "code",
   "execution_count": 20,
   "metadata": {},
   "outputs": [],
   "source": [
    "from scipy.interpolate import griddata"
   ]
  },
  {
   "cell_type": "code",
   "execution_count": 18,
   "metadata": {},
   "outputs": [],
   "source": [
    "# stacked_coords = np.stack((phi_new[~nanmask],theta_new[~nanmask],r_new[~nanmask])).reshape(3,-1).T"
   ]
  },
  {
   "cell_type": "code",
   "execution_count": 19,
   "metadata": {},
   "outputs": [],
   "source": [
    "from scipy import interpolate"
   ]
  },
  {
   "cell_type": "code",
   "execution_count": 21,
   "metadata": {},
   "outputs": [],
   "source": [
    "# N=100\n",
    "# phi_points = np.linspace(0,2*np.pi, N)\n",
    "# theta_points = np.linspace(0,np.pi,N)\n",
    "# r_points = np.ones(N) * Rh\n",
    "\n",
    "# grid_phi, grid_theta, grid_r = np.meshgrid(phi_points,theta_points,r_points, indexing=\"ij\")"
   ]
  },
  {
   "cell_type": "code",
   "execution_count": 23,
   "metadata": {},
   "outputs": [],
   "source": [
    "# interpolator = interpolate.RegularGridInterpolator(stacked_coords, values=rho[~nanmask].flatten(), fill_value=None)"
   ]
  },
  {
   "cell_type": "code",
   "execution_count": 24,
   "metadata": {},
   "outputs": [],
   "source": [
    "# griddata(np.stack((phi_new[~nanmask],theta_new[~nanmask],r_new[~nanmask])).reshape(3,-1).T, rho[~nanmask].flatten(), (grid_phi, grid_theta, grid_r), method='cubic')"
   ]
  },
  {
   "cell_type": "code",
   "execution_count": 25,
   "metadata": {},
   "outputs": [],
   "source": [
    "# def linear_interp(value1, value2, point1, point2, point_needed):\n",
    "#     y = value1 + (point_needed-point1) * (value2 - value1) / (point2 - point1)\n",
    "#     return y"
   ]
  },
  {
   "cell_type": "code",
   "execution_count": 168,
   "metadata": {},
   "outputs": [
    {
     "name": "stderr",
     "output_type": "stream",
     "text": [
      "/var/folders/6b/q0ls5s7570d8s04fbvw5gmxw0000gn/T/ipykernel_76330/894961704.py:3: RuntimeWarning: divide by zero encountered in divide\n",
      "  vtheta_new = r_new * 1 / np.sqrt(r ** 2 * np.sin(theta) ** 2 + rp ** 2 + 2 * r * rp * np.sin(theta) * np.cos(phi)) \\\n"
     ]
    }
   ],
   "source": [
    "# planet-centered velocities\n",
    "vr_new = 1 / 2 * 1 / r_new * (2 * r * vr + 2 * rp * (vr * np.sin(theta) * np.cos(phi) + vtheta * np.cos(theta) * np.cos(phi) - vphi*np.sin(phi)))\n",
    "vtheta_new = r_new * 1 / np.sqrt(r ** 2 * np.sin(theta) ** 2 + rp ** 2 + 2 * r * rp * np.sin(theta) * np.cos(phi)) \\\n",
    "* ((vtheta * np.sin(theta) - vr * np.cos(theta)) + r * np.cos(theta) / (r ** 2+rp ** 2 + 2 * r * rp * np.sin(theta) * np.cos(phi)) * \\\n",
    "   (r * vr + vr * rp * np.sin(theta) * np.cos(phi) + rp * vtheta * np.cos(theta) * np.cos(phi) - rp * vphi * np.sin(phi)))\n",
    "vphi_new = r_new * np.sin(theta_new) * 1 / (r ** 2 * np.sin(theta) ** 2 + 2 * r * rp * np.sin(theta) * np.cos(phi)) * \\\n",
    "(vphi + rp * (vr * np.sin(theta) * np.sin(phi) + vtheta * np.cos(theta) * np.sin(phi) + vphi * np.cos(phi)))"
   ]
  },
  {
   "cell_type": "code",
   "execution_count": 26,
   "metadata": {},
   "outputs": [
    {
     "data": {
      "text/plain": [
       "0.002318479284631188"
      ]
     },
     "execution_count": 26,
     "metadata": {},
     "output_type": "execute_result"
    }
   ],
   "source": [
    "trilinear_interpolation(phi_new[:,0,0], theta_new[0,:,0], r_new[0,0,:], rho, -0.7845075, 2.1386833, 0.2764957)"
   ]
  },
  {
   "cell_type": "code",
   "execution_count": 27,
   "metadata": {},
   "outputs": [
    {
     "data": {
      "text/plain": [
       "(array([1150]),)"
      ]
     },
     "execution_count": 27,
     "metadata": {},
     "output_type": "execute_result"
    }
   ],
   "source": [
    "np.where(np.isclose(theta_new[0,:,0],2.1386833))"
   ]
  },
  {
   "cell_type": "code",
   "execution_count": 28,
   "metadata": {},
   "outputs": [
    {
     "data": {
      "text/plain": [
       "(array([572]),)"
      ]
     },
     "execution_count": 28,
     "metadata": {},
     "output_type": "execute_result"
    }
   ],
   "source": [
    "np.where(np.isclose(phi_new[:,0,0],-0.7845075))"
   ]
  },
  {
   "cell_type": "code",
   "execution_count": 29,
   "metadata": {},
   "outputs": [
    {
     "data": {
      "text/plain": [
       "(array([13]),)"
      ]
     },
     "execution_count": 29,
     "metadata": {},
     "output_type": "execute_result"
    }
   ],
   "source": [
    "np.where(np.isclose(r_new[0,0,:],0.2764957))"
   ]
  },
  {
   "cell_type": "code",
   "execution_count": 30,
   "metadata": {},
   "outputs": [
    {
     "data": {
      "text/plain": [
       "0.0020119993"
      ]
     },
     "execution_count": 30,
     "metadata": {},
     "output_type": "execute_result"
    }
   ],
   "source": [
    "rho[572,1150,13]"
   ]
  },
  {
   "cell_type": "code",
   "execution_count": 169,
   "metadata": {},
   "outputs": [],
   "source": [
    "x = r * np.sin(theta) * np.cos(phi)\n",
    "y = r * np.sin(theta) * np.sin(phi)\n",
    "z = r * np.cos(theta)"
   ]
  },
  {
   "cell_type": "code",
   "execution_count": 170,
   "metadata": {},
   "outputs": [],
   "source": [
    "dist = np.sqrt((x + 1) ** 2 + y ** 2 + z ** 2) - Rh"
   ]
  },
  {
   "cell_type": "code",
   "execution_count": 171,
   "metadata": {},
   "outputs": [],
   "source": [
    "indices = np.nonzero((np.abs(dist)<3e-4) & (~np.isnan(theta_new)))"
   ]
  },
  {
   "cell_type": "code",
   "execution_count": 17,
   "metadata": {},
   "outputs": [
    {
     "data": {
      "text/plain": [
       "array([ 1.483333 ,  1.493759 ,  1.5041916, ..., -1.4937503, -1.5041828,\n",
       "       -1.5146161], dtype=float32)"
      ]
     },
     "execution_count": 17,
     "metadata": {},
     "output_type": "execute_result"
    }
   ],
   "source": [
    "phi_new[indices]"
   ]
  },
  {
   "cell_type": "code",
   "execution_count": 188,
   "metadata": {},
   "outputs": [],
   "source": [
    "N=100\n",
    "phi_points = np.linspace(0, 2 * np.pi, N) \n",
    "theta_points = np.linspace(np.arccos(-1), np.arccos(1), N)[::-1]\n",
    "r_points = np.ones(N) * Rh\n",
    "\n",
    "interp_den = []\n"
   ]
  },
  {
   "cell_type": "code",
   "execution_count": 136,
   "metadata": {},
   "outputs": [],
   "source": [
    "r_points_mesh, theta_points_mesh, phi_points_mesh = np.meshgrid(r_points, theta_points, phi_points, indexing='ij')"
   ]
  },
  {
   "cell_type": "code",
   "execution_count": 137,
   "metadata": {},
   "outputs": [],
   "source": [
    "x_points = r_points_mesh * np.sin(theta_points_mesh) * np.cos(phi_points_mesh)\n",
    "y_points = r_points_mesh * np.sin(theta_points_mesh) * np.sin(phi_points_mesh)\n",
    "z_points = r_points_mesh * np.cos(theta_points_mesh)"
   ]
  },
  {
   "cell_type": "code",
   "execution_count": 138,
   "metadata": {},
   "outputs": [],
   "source": [
    "x_points_new = x_points - 1"
   ]
  },
  {
   "cell_type": "code",
   "execution_count": 139,
   "metadata": {},
   "outputs": [],
   "source": [
    "r_points_new = np.sqrt(x_points_new ** 2 + y_points ** 2 + z_points ** 2)\n",
    "theta_points_new = np.arctan2(y_points, x_points_new)\n",
    "phi_points_new = np.arccos(z_points / r_points_new)"
   ]
  },
  {
   "cell_type": "code",
   "execution_count": 141,
   "metadata": {},
   "outputs": [
    {
     "data": {
      "text/plain": [
       "array([ 1.483333 ,  1.493759 ,  1.5041916, ..., -1.4937503, -1.5041828,\n",
       "       -1.5146161], dtype=float32)"
      ]
     },
     "execution_count": 141,
     "metadata": {},
     "output_type": "execute_result"
    }
   ],
   "source": [
    "phi_new[indices]"
   ]
  },
  {
   "cell_type": "code",
   "execution_count": 173,
   "metadata": {},
   "outputs": [
    {
     "data": {
      "text/plain": [
       "0.06684356303478946"
      ]
     },
     "execution_count": 173,
     "metadata": {},
     "output_type": "execute_result"
    }
   ],
   "source": [
    "np.arccos(1/np.sqrt(1+Rh**2))"
   ]
  },
  {
   "cell_type": "code",
   "execution_count": 187,
   "metadata": {},
   "outputs": [],
   "source": [
    "theta_points = np.linspace(data['x2v'][0]+0.2,data['x2v'][-1]-0.2, N) \n",
    "phi_points = np.linspace(data['x3v'][0]+0.2,data['x3v'][-1]-0.2, N)\n",
    "r_points = np.linspace(data['x1v'][0]+0.2,data['x1v'][-1]-0.2, N)"
   ]
  },
  {
   "cell_type": "code",
   "execution_count": 189,
   "metadata": {},
   "outputs": [],
   "source": [
    "phi_points_mesh, theta_points_mesh, r_points_mesh = np.meshgrid(phi_points,theta_points,r_points, indexing='ij')"
   ]
  },
  {
   "cell_type": "code",
   "execution_count": 199,
   "metadata": {},
   "outputs": [],
   "source": [
    "for i in range(N):\n",
    "    for j in range(N):\n",
    "        for k in range(N):\n",
    "            interp_den.append(trilinear_interpolation(data['x3v'], data['x2v'], data['x1v'], rho, phi_points[i], theta_points[j], r_points[k]))"
   ]
  },
  {
   "cell_type": "code",
   "execution_count": 73,
   "metadata": {},
   "outputs": [],
   "source": [
    "lon = np.pi - phi_points_new % (2*np.pi)\n",
    "lat = np.pi/2 - theta_points_new % np.pi"
   ]
  },
  {
   "cell_type": "code",
   "execution_count": 86,
   "metadata": {},
   "outputs": [
    {
     "data": {
      "image/png": "[encoded data removed]",
      "text/plain": [
       "<Figure size 1200x800 with 2 Axes>"
      ]
     },
     "metadata": {},
     "output_type": "display_data"
    }
   ],
   "source": [
    "fig = plt.figure(figsize=(12, 8))\n",
    "ax = fig.add_subplot(111, projection='mollweide')\n",
    "cax = ax.scatter(lon, lat, c=np.array(interp_den), s=3, cmap='plasma')\n",
    "# ax.grid(True)\n",
    "ax.set_xlabel('Longitude')\n",
    "ax.set_ylabel('Latitude')\n",
    "ax.set_yticklabels([])\n",
    "ax.set_xticklabels([])\n",
    "cbar = fig.colorbar(cax, orientation='vertical')\n",
    "cbar.set_label('Density')\n",
    "plt.show()"
   ]
  },
  {
   "cell_type": "code",
   "execution_count": 32,
   "metadata": {},
   "outputs": [
    {
     "data": {
      "text/plain": [
       "<matplotlib.image.AxesImage at 0x184fa28b0>"
      ]
     },
     "execution_count": 32,
     "metadata": {},
     "output_type": "execute_result"
    },
    {
     "data": {
      "image/png": "[encoded data removed]",
      "text/plain": [
       "<Figure size 640x480 with 1 Axes>"
      ]
     },
     "metadata": {},
     "output_type": "display_data"
    }
   ],
   "source": [
    "plt.imshow(interp_den[-1])"
   ]
  },
  {
   "cell_type": "code",
   "execution_count": 33,
   "metadata": {},
   "outputs": [],
   "source": [
    "lon = np.pi - phi_points \n",
    "lat = np.pi/2 - theta_points "
   ]
  },
  {
   "cell_type": "code",
   "execution_count": 57,
   "metadata": {},
   "outputs": [],
   "source": [
    "from astropy_healpix import HEALPix\n",
    "from astropy.coordinates import Galactic"
   ]
  },
  {
   "cell_type": "code",
   "execution_count": 58,
   "metadata": {},
   "outputs": [],
   "source": [
    "nside = 100\n",
    "order = 'NESTED'"
   ]
  },
  {
   "cell_type": "code",
   "execution_count": 59,
   "metadata": {},
   "outputs": [],
   "source": [
    "hp = HEALPix(nside=nside, order=order) "
   ]
  },
  {
   "cell_type": "code",
   "execution_count": null,
   "metadata": {},
   "outputs": [],
   "source": []
  }
 ],
 "metadata": {
  "kernelspec": {
   "display_name": "base",
   "language": "python",
   "name": "python3"
  },
  "language_info": {
   "codemirror_mode": {
    "name": "ipython",
    "version": 3
   },
   "file_extension": ".py",
   "mimetype": "text/x-python",
   "name": "python",
   "nbconvert_exporter": "python",
   "pygments_lexer": "ipython3",
   "version": "3.9.15"
  },
  "orig_nbformat": 4,
  "vscode": {
   "interpreter": {
    "hash": "40d3a090f54c6569ab1632332b64b2c03c39dcf918b08424e98f38b5ae0af88f"
   }
  }
 },
 "nbformat": 4,
 "nbformat_minor": 2
}
